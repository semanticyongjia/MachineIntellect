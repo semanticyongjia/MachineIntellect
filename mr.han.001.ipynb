{
 "cells": [
  {
   "cell_type": "markdown",
   "metadata": {},
   "source": [
    "# 零基础入门深度学习(1) - 感知器\n",
    "版权归<font color=blue>帅帅的韩老师</font>，我是勤劳的小助手<font color=blue>贾庸</font>"
   ]
  },
  {
   "cell_type": "markdown",
   "metadata": {},
   "source": [
    "---"
   ]
  },
  {
   "cell_type": "markdown",
   "metadata": {},
   "source": [
    "# 文章列表\n",
    "零基础入门深度学习(1) - 感知器\n",
    "https://www.zybuluo.com/hanbingtao/note/433855\n",
    "\n",
    "零基础入门深度学习(2) - 线性单元和梯度下降\n",
    "https://www.zybuluo.com/hanbingtao/note/448086\n",
    "\n",
    "零基础入门深度学习(3) - 神经网络和反向传播算法\n",
    "https://www.zybuluo.com/hanbingtao/note/476663\n",
    "\n",
    "零基础入门深度学习(4) - 卷积神经网络\n",
    "https://zybuluo.com/hanbingtao/note/485480\n",
    "\n",
    "零基础入门深度学习(5) - 循环神经网络 \n",
    "https://zybuluo.com/hanbingtao/note/541458\n",
    "\n",
    "零基础入门深度学习(6) - 长短时记忆网络(LSTM)\n",
    "https://zybuluo.com/hanbingtao/note/581764"
   ]
  },
  {
   "cell_type": "markdown",
   "metadata": {},
   "source": [
    "# 深度学习是啥\n",
    "在人工智能领域，有一个方法叫机器学习。在机器学习这个方法里，有一类算法叫神经网络。神经网络如下图所示：\n",
    "\n",
    "![神经网络](http://upload-images.jianshu.io/upload_images/2256672-c6f640c11a06ac2e.png)\n",
    "\n",
    "上图中每个圆圈都是一个神经元，每条线表示神经元之间的连接。我们可以看到，上面的神经元被分成了多层，层与层之间的神经元有连接，而层内之间的神经元没有连接。最左边的层叫做输入层，这层负责接收输入数据；最右边的层叫输出层，我们可以从这层获取神经网络输出数据。输入层和输出层之间的层叫做隐藏层。\n",
    "\n",
    "隐藏层比较多（大于2）的神经网络叫做深度神经网络。而深度学习，就是使用深层架构（比如，深度神经网络）的机器学习方法。\n",
    "\n",
    "那么深层网络和浅层网络相比有什么优势呢？简单来说深层网络能够表达力更强。事实上，一个仅有一个隐藏层的神经网络就能拟合任何一个函数，但是它需要很多很多的神经元。而深层网络用少得多的神经元就能拟合同样的函数。也就是为了拟合一个函数，要么使用一个浅而宽的网络，要么使用一个深而窄的网络。而后者往往更节约资源。\n",
    "\n",
    "深层网络也有劣势，就是它不太容易训练。简单的说，你需要大量的数据，很多的技巧才能训练好一个深层网络。这是个手艺活。"
   ]
  },
  {
   "cell_type": "markdown",
   "metadata": {},
   "source": [
    "# 感知器\n",
    "看到这里，如果你还是一头雾水，那也是很正常的。为了理解神经网络，我们应该先理解神经网络的组成单元——神经元。神经元也叫做感知器。感知器算法在上个世纪50-70年代很流行，也成功解决了很多问题。并且，感知器算法也是非常简单的。"
   ]
  },
  {
   "cell_type": "markdown",
   "metadata": {},
   "source": [
    "# 感知器的定义\n",
    "下图是一个感知器：\n",
    "![感知器](http://upload-images.jianshu.io/upload_images/2256672-801d65e79bfc3162.png)\n",
    "可以看到，一个感知器有如下组成部分：\n",
    "- 输入权值 一个感知器可以接收多个输入 $(x_1, x_2,...,x_n\\mid x_i\\in\\Re)$，每个输入上有一个权值 $w_i\\in\\Re$，此外还有一个偏置项 $b\\in\\Re$，就是上图中的 $w_0$ 。\n",
    "- 激活函数 感知器的激活函数可以有很多选择，比如我们可以选择下面这个**阶跃函数** $f$ 来作为激活函数：\n",
    "$$f(z)=\\begin{equation}\\begin{cases}1\\qquad z>0\\\\0\\qquad otherwise\\end{cases}\\end{equation} (1)$$\n",
    "- 输出 感知器的输出由下面这个公式来计算\n",
    "$$y=f(\\mathrm{w}\\bullet\\mathrm{x}+b)\\qquad 公式(1)$$\n",
    "如果看完上面的公式一下子就晕了，不要紧，我们用一个简单的例子来帮助理解。\n",
    "例子：用感知器实现**and**函数\n",
    "我们设计一个感知器，让它来实现and运算。程序员都知道，and是一个二元函数（带有两个参数和），下面是它的**真值表**："
   ]
  },
  {
   "cell_type": "markdown",
   "metadata": {},
   "source": [
    "为了计算方便，我们用0表示false，用1表示true。这没什么难理解的，对于C语言程序员来说，这是天经地义的。\n",
    "\n",
    "我们令 $w_1=0.5;w_2=0.5;b=-0.8$，而激活函数 $ f $ 就是前面写出来的阶跃函数，这时，感知器就相当于and函数。不明白？我们验算一下：\n",
    "输入上面真值表的第一行，即 $x_1=0;x_2=0$，那么根据公式(1)，计算输出： "
   ]
  },
  {
   "cell_type": "markdown",
   "metadata": {},
   "source": [
    "$\n",
    "\\begin{align}\n",
    "y&=f(\\mathrm{w}\\bullet\\mathrm{x}+b)\\\\\n",
    "&=f(w_1x_1+w_2x_2+b)\\\\\n",
    "&=f(0.5\\times0+0.5\\times0-0.8)\\\\\n",
    "&=f(-0.8)\\\\\n",
    "&=0\n",
    "\\end{align}\n",
    "$"
   ]
  },
  {
   "cell_type": "markdown",
   "metadata": {},
   "source": [
    "也就是当 $x_1$ $x_2$ 都为0的时候，$y$ 为0，这就是**真值表**的第一行。读者可以自行验证上述真值表的第二、三、四行。"
   ]
  },
  {
   "cell_type": "markdown",
   "metadata": {},
   "source": [
    "中间省略一大段，月底前补齐 :)\n",
    "# 编程实战：实现感知器\n",
    "对于程序员来说，没有什么比亲自动手实现学得更快了，而且，很多时候一行代码抵得上千言万语。接下来我们就将实现一个感知器。\n",
    "\n",
    "下面是一些说明：\n",
    "- 使用python语言。python在机器学习领域用的很广泛，而且，写python程序真的很轻松。\n",
    "- 面向对象编程。面向对象是特别好的管理复杂度的工具，应对复杂问题时，用面向对象设计方法很容易将复杂问题拆解为多个简单问题，从而解救我们的大脑。\n",
    "- 没有使用numpy。numpy实现了很多基础算法，对于实现机器学习算法来说是个必备的工具。但为了降低读者理解的难度，下面的代码只用到了基本的python（省去您去学习numpy的时间）。\n",
    "下面是感知器类的实现，非常简单。去掉注释只有27行，而且还包括为了美观（每行不超过60个字符）而增加的很多换行。"
   ]
  },
  {
   "cell_type": "code",
   "execution_count": 17,
   "metadata": {
    "collapsed": false
   },
   "outputs": [],
   "source": [
    "class Perceptron(object):\n",
    "    def __init__(self, input_num, activator):\n",
    "        '''\n",
    "        初始化感知器，设置输入参数的个数，以及激活函数。\n",
    "        激活函数的类型为double -> double\n",
    "        '''\n",
    "        self.activator = activator\n",
    "        # 权重向量初始化为0\n",
    "        self.weights = [0.0 for _ in range(input_num)]\n",
    "        # 偏置项初始化为0\n",
    "        self.bias = 0.0\n",
    "    def __str__(self):\n",
    "        '''\n",
    "        打印学习到的权重、偏置项\n",
    "        '''\n",
    "        return 'weights\\t:%s\\nbias\\t:%f\\n' % (self.weights, self.bias)\n",
    "    def predict(self, input_vec):\n",
    "        '''\n",
    "        输入向量，输出感知器的计算结果\n",
    "        '''\n",
    "        # 把input_vec[x1,x2,x3...]和weights[w1,w2,w3,...]打包在一起\n",
    "        # 变成[(x1,w1),(x2,w2),(x3,w3),...]\n",
    "        # 然后利用map函数计算[x1*w1, x2*w2, x3*w3]\n",
    "        # 最后利用reduce求和\n",
    "        return self.activator(\n",
    "            reduce(lambda a, b: a + b,\n",
    "                   map(lambda (x, w): x * w,  \n",
    "                       zip(input_vec, self.weights))\n",
    "                , 0.0) + self.bias)\n",
    "    def train(self, input_vecs, labels, iteration, rate):\n",
    "        '''\n",
    "        输入训练数据：一组向量、与每个向量对应的label；以及训练轮数、学习率\n",
    "        '''\n",
    "        for i in range(iteration):\n",
    "            self._one_iteration(input_vecs, labels, rate)\n",
    "    def _one_iteration(self, input_vecs, labels, rate):\n",
    "        '''\n",
    "        一次迭代，把所有的训练数据过一遍\n",
    "        '''\n",
    "        # 把输入和输出打包在一起，成为样本的列表[(input_vec, label), ...]\n",
    "        # 而每个训练样本是(input_vec, label)\n",
    "        samples = zip(input_vecs, labels)\n",
    "        # 对每个样本，按照感知器规则更新权重\n",
    "        for (input_vec, label) in samples:\n",
    "            # 计算感知器在当前权重下的输出\n",
    "            output = self.predict(input_vec)\n",
    "            # 更新权重\n",
    "            self._update_weights(input_vec, output, label, rate)\n",
    "    def _update_weights(self, input_vec, output, label, rate):\n",
    "        '''\n",
    "        按照感知器规则更新权重\n",
    "        '''\n",
    "        # 把input_vec[x1,x2,x3,...]和weights[w1,w2,w3,...]打包在一起\n",
    "        # 变成[(x1,w1),(x2,w2),(x3,w3),...]\n",
    "        # 然后利用感知器规则更新权重\n",
    "        delta = label - output\n",
    "        self.weights = map(\n",
    "            lambda (x, w): w + rate * delta * x,\n",
    "            zip(input_vec, self.weights))\n",
    "        # 更新bias\n",
    "        self.bias += rate * delta"
   ]
  },
  {
   "cell_type": "markdown",
   "metadata": {},
   "source": [
    "接下来，我们利用这个感知器类去实现 **and** 函数。"
   ]
  },
  {
   "cell_type": "code",
   "execution_count": 18,
   "metadata": {
    "collapsed": false
   },
   "outputs": [
    {
     "name": "stdout",
     "output_type": "stream",
     "text": [
      "weights\t:[0.1, 0.2]\n",
      "bias\t:-0.200000\n",
      "\n",
      "1 and 1 = 1\n",
      "0 and 0 = 0\n",
      "1 and 0 = 0\n",
      "0 and 1 = 0\n"
     ]
    }
   ],
   "source": [
    "def f(x):\n",
    "    '''\n",
    "    定义激活函数f\n",
    "    '''\n",
    "    return 1 if x > 0 else 0\n",
    "def get_training_dataset():\n",
    "    '''\n",
    "    基于and真值表构建训练数据\n",
    "    '''\n",
    "    # 构建训练数据\n",
    "    # 输入向量列表\n",
    "    input_vecs = [[1,1], [0,0], [1,0], [0,1]]\n",
    "    # 期望的输出列表，注意要与输入一一对应\n",
    "    # [1,1] -> 1, [0,0] -> 0, [1,0] -> 0, [0,1] -> 0\n",
    "    labels = [1, 0, 0, 0]\n",
    "    return input_vecs, labels\n",
    "def train_and_perceptron():\n",
    "    '''\n",
    "    使用and真值表训练感知器\n",
    "    '''\n",
    "    # 创建感知器，输入参数个数为2（因为and是二元函数），激活函数为f\n",
    "    p = Perceptron(2, f)\n",
    "    # 训练，迭代10轮, 学习速率为0.1\n",
    "    input_vecs, labels = get_training_dataset()\n",
    "    p.train(input_vecs, labels, 10, 0.1)\n",
    "    #返回训练好的感知器\n",
    "    return p\n",
    "if __name__ == '__main__':\n",
    "    # 训练and感知器\n",
    "    and_perception = train_and_perceptron()\n",
    "    # 打印训练获得的权重\n",
    "    print and_perception\n",
    "    # 测试\n",
    "    print '1 and 1 = %d' % and_perception.predict([1, 1])\n",
    "    print '0 and 0 = %d' % and_perception.predict([0, 0])\n",
    "    print '1 and 0 = %d' % and_perception.predict([1, 0])\n",
    "    print '0 and 1 = %d' % and_perception.predict([0, 1])"
   ]
  },
  {
   "cell_type": "markdown",
   "metadata": {},
   "source": [
    "将上述程序保存为perceptron.py文件，通过命令行执行这个程序，其运行结果为：\n",
    "![perceptron](http://upload-images.jianshu.io/upload_images/2256672-1e66158656366b57.png)\n",
    "神奇吧！感知器竟然完全实现了and函数。读者可以尝试一下利用感知器实现其它函数。"
   ]
  },
  {
   "cell_type": "markdown",
   "metadata": {},
   "source": [
    "如果是在 Jupyter notebook下，就直接在 web 页上运行即可啦"
   ]
  },
  {
   "cell_type": "markdown",
   "metadata": {},
   "source": [
    "# 小结\n",
    "\n",
    "终于看（写）到小结了...，大家都累了。对于零基础的你来说，走到这里应该已经很烧脑了吧。没关系，休息一下。值得高兴的是，你终于已经走出了深度学习入门的第一步，这是巨大的进步；坏消息是，这仅仅是最简单的部分，后面还有无数艰难险阻等着你。不过，你学的困难往往意味着别人学的也困难，掌握一门高门槛的技艺，进可糊口退可装逼，是很值得的。\n",
    "\n",
    "下一篇文章，我们将讨论另外一种感知器：线性单元，并由此引出一种可能是最最重要的优化算法：梯度下降算法。\n",
    "\n",
    "# 参考资料\n",
    "\n",
    "1. Tom M. Mitchell, \"机器学习\", 曾华军等译, 机械工业出版社"
   ]
  }
 ],
 "metadata": {
  "anaconda-cloud": {},
  "kernelspec": {
   "display_name": "Python [default]",
   "language": "python",
   "name": "python2"
  },
  "language_info": {
   "codemirror_mode": {
    "name": "ipython",
    "version": 2
   },
   "file_extension": ".py",
   "mimetype": "text/x-python",
   "name": "python",
   "nbconvert_exporter": "python",
   "pygments_lexer": "ipython2",
   "version": "2.7.12"
  }
 },
 "nbformat": 4,
 "nbformat_minor": 1
}
